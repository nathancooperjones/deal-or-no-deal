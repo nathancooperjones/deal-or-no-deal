{
 "cells": [
  {
   "cell_type": "code",
   "execution_count": null,
   "metadata": {},
   "outputs": [],
   "source": [
    "%reload_ext autoreload\n",
    "%autoreload 2"
   ]
  },
  {
   "cell_type": "code",
   "execution_count": null,
   "metadata": {},
   "outputs": [],
   "source": [
    "import numpy as np\n",
    "import pandas as pd\n",
    "from tqdm import tqdm"
   ]
  },
  {
   "cell_type": "code",
   "execution_count": null,
   "metadata": {},
   "outputs": [],
   "source": [
    "df = pd.read_excel('/deal_or_no_deal/data/Deal or No Deal Data.xlsx')"
   ]
  },
  {
   "cell_type": "code",
   "execution_count": null,
   "metadata": {},
   "outputs": [],
   "source": [
    "df.head()"
   ]
  },
  {
   "cell_type": "code",
   "execution_count": null,
   "metadata": {},
   "outputs": [],
   "source": [
    "from deal_or_no_deal.preprocess import preprocess_historical_case_data"
   ]
  },
  {
   "cell_type": "code",
   "execution_count": null,
   "metadata": {},
   "outputs": [],
   "source": [
    "case_data_df = preprocess_historical_case_data(df, keep_contestant_id=True)\n",
    "case_data_df = case_data_df.sort_values(by=['contestant_id', 'round'])\n",
    "contestants_to_keep = case_data_df[case_data_df['round'] == 1]['contestant_id'].unique()\n",
    "case_data_df = case_data_df[case_data_df['contestant_id'].isin(contestants_to_keep)]\n",
    "\n",
    "case_data_df"
   ]
  },
  {
   "cell_type": "markdown",
   "metadata": {},
   "source": [
    "## `DQNAgent` "
   ]
  },
  {
   "cell_type": "code",
   "execution_count": null,
   "metadata": {},
   "outputs": [],
   "source": [
    "from deal_or_no_deal.dqn import DQNAgent"
   ]
  },
  {
   "cell_type": "code",
   "execution_count": null,
   "metadata": {},
   "outputs": [],
   "source": [
    "agent = DQNAgent(28, 2)"
   ]
  },
  {
   "cell_type": "code",
   "execution_count": null,
   "metadata": {},
   "outputs": [],
   "source": [
    "agent.load('/deal_or_no_deal/data/dqn_v3_4000.h5')"
   ]
  },
  {
   "cell_type": "code",
   "execution_count": null,
   "metadata": {},
   "outputs": [],
   "source": [
    "deal_outcomes_list = list()\n",
    "no_deal_outcomes_list = list()\n",
    "\n",
    "\n",
    "for player in tqdm(case_data_df['contestant_id'].unique()):\n",
    "    player_case_data_df = case_data_df[case_data_df['contestant_id'] == player]\n",
    "    winnings = df[df['Contestant ID'] == player]['Winnings'].values[0]\n",
    "    case_amount = df[df['Contestant ID'] == player]['Case Amount'].values[0]\n",
    "    \n",
    "    if not winnings or winnings == 'None':\n",
    "        continue\n",
    "    \n",
    "    for round_num, row in player_case_data_df.iterrows():\n",
    "        game_state = row[['case_0.01',\n",
    "                          'case_1.0',\n",
    "                          'case_5.0',\n",
    "                          'case_10.0',\n",
    "                          'case_25.0',\n",
    "                          'case_50.0',\n",
    "                          'case_75.0',\n",
    "                          'case_100.0',\n",
    "                          'case_200.0',\n",
    "                          'case_300.0',\n",
    "                          'case_400.0',\n",
    "                          'case_500.0',\n",
    "                          'case_750.0',\n",
    "                          'case_1000.0',\n",
    "                          'case_5000.0',\n",
    "                          'case_10000.0',\n",
    "                          'case_25000.0',\n",
    "                          'case_50000.0',\n",
    "                          'case_75000.0',\n",
    "                          'case_100000.0',\n",
    "                          'case_200000.0',\n",
    "                          'case_300000.0',\n",
    "                          'case_400000.0',\n",
    "                          'case_500000.0',\n",
    "                          'case_750000.0',\n",
    "                          'case_1000000.0']].values.tolist()\n",
    "        offer = [row['offer'] / 500000]\n",
    "        round_number = [row['round'] / 10]\n",
    "        model_input = np.array([game_state + offer + round_number])\n",
    "        \n",
    "        # make model prediction now\n",
    "        model_prediction = agent.model.predict(model_input)[0]\n",
    "        # next_action = 0 if model_prediction[0] > model_prediction[1] else 1\n",
    "        \n",
    "        model_difference = model_prediction[0] - model_prediction[1]\n",
    "        initial_value = 1 if row['offer'] > 134477.52 else 0\n",
    "        next_action = 0 if (initial_value - model_difference) > 1.63 else 1\n",
    "        \n",
    "        if next_action == 0:\n",
    "            did_model_do_better = row['offer'] >= winnings\n",
    "            deal_outcomes_list.append(did_model_do_better)\n",
    "            break\n",
    "        \n",
    "        if row['round'] == player_case_data_df['round'].max():\n",
    "            did_model_do_better = case_amount >= winnings\n",
    "            no_deal_outcomes_list.append(did_model_do_better)\n",
    "            break"
   ]
  },
  {
   "cell_type": "code",
   "execution_count": null,
   "metadata": {},
   "outputs": [],
   "source": [
    "pd.Series(deal_outcomes_list).value_counts()"
   ]
  },
  {
   "cell_type": "code",
   "execution_count": null,
   "metadata": {},
   "outputs": [],
   "source": [
    "pd.Series(no_deal_outcomes_list).value_counts()"
   ]
  },
  {
   "cell_type": "markdown",
   "metadata": {},
   "source": [
    "## Brute Force "
   ]
  },
  {
   "cell_type": "code",
   "execution_count": null,
   "metadata": {},
   "outputs": [],
   "source": [
    "from deal_or_no_deal.fast_play import Deal_or_No_Deal_Fast_Play"
   ]
  },
  {
   "cell_type": "code",
   "execution_count": null,
   "metadata": {},
   "outputs": [],
   "source": [
    "fast_player = Deal_or_No_Deal_Fast_Play(\n",
    "    banker_model_filename='/deal_or_no_deal/data/banker_model_0908.pkl',\n",
    ")"
   ]
  },
  {
   "cell_type": "code",
   "execution_count": null,
   "metadata": {},
   "outputs": [],
   "source": [
    "deal_outcomes_list = list()\n",
    "no_deal_outcomes_list = list()\n",
    "\n",
    "\n",
    "for player in tqdm(case_data_df['contestant_id'].unique()):\n",
    "    player_case_data_df = case_data_df[case_data_df['contestant_id'] == player]\n",
    "    winnings = df[df['Contestant ID'] == player]['Winnings'].values[0]\n",
    "    case_amount = df[df['Contestant ID'] == player]['Case Amount'].values[0]\n",
    "    \n",
    "    if not winnings or winnings == 'None':\n",
    "        continue\n",
    "    \n",
    "    for round_num, row in player_case_data_df.iterrows():\n",
    "        game_state = row[['case_0.01',\n",
    "                          'case_1.0',\n",
    "                          'case_5.0',\n",
    "                          'case_10.0',\n",
    "                          'case_25.0',\n",
    "                          'case_50.0',\n",
    "                          'case_75.0',\n",
    "                          'case_100.0',\n",
    "                          'case_200.0',\n",
    "                          'case_300.0',\n",
    "                          'case_400.0',\n",
    "                          'case_500.0',\n",
    "                          'case_750.0',\n",
    "                          'case_1000.0',\n",
    "                          'case_5000.0',\n",
    "                          'case_10000.0',\n",
    "                          'case_25000.0',\n",
    "                          'case_50000.0',\n",
    "                          'case_75000.0',\n",
    "                          'case_100000.0',\n",
    "                          'case_200000.0',\n",
    "                          'case_300000.0',\n",
    "                          'case_400000.0',\n",
    "                          'case_500000.0',\n",
    "                          'case_750000.0',\n",
    "                          'case_1000000.0']].values.tolist()\n",
    "\n",
    "        continue_probability = fast_player.generate_future_game_states(\n",
    "            cases_opened=game_state,\n",
    "            round_num=int(row['round']),\n",
    "            offer=float(row['offer']),\n",
    "            number_of_games_to_run=100,\n",
    "        )\n",
    "        \n",
    "        # make model prediction now\n",
    "        next_action = 0 if continue_probability < 0.58 else 1\n",
    "        \n",
    "        if next_action == 0:\n",
    "            did_model_do_better = row['offer'] >= winnings\n",
    "            deal_outcomes_list.append(did_model_do_better)\n",
    "            break\n",
    "        \n",
    "        if row['round'] == player_case_data_df['round'].max():\n",
    "            did_model_do_better = case_amount >= winnings\n",
    "            no_deal_outcomes_list.append(did_model_do_better)\n",
    "            break"
   ]
  },
  {
   "cell_type": "code",
   "execution_count": null,
   "metadata": {},
   "outputs": [],
   "source": [
    "pd.Series(deal_outcomes_list).value_counts()"
   ]
  },
  {
   "cell_type": "code",
   "execution_count": null,
   "metadata": {},
   "outputs": [],
   "source": [
    "pd.Series(no_deal_outcomes_list).value_counts()"
   ]
  },
  {
   "cell_type": "markdown",
   "metadata": {},
   "source": [
    "----- "
   ]
  }
 ],
 "metadata": {
  "kernelspec": {
   "display_name": "Python 3",
   "language": "python",
   "name": "python3"
  },
  "language_info": {
   "codemirror_mode": {
    "name": "ipython",
    "version": 3
   },
   "file_extension": ".py",
   "mimetype": "text/x-python",
   "name": "python",
   "nbconvert_exporter": "python",
   "pygments_lexer": "ipython3",
   "version": "3.6.9"
  }
 },
 "nbformat": 4,
 "nbformat_minor": 4
}
